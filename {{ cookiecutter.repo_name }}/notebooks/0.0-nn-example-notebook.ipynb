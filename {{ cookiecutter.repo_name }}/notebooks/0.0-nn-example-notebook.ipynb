{
 "cells": [
  {
   "cell_type": "code",
   "execution_count": null,
   "metadata": {},
   "outputs": [],
   "source": [
    "# switch to root of repository\n",
    "import os\n",
    "cwd = os.getcwd()\n",
    "if os.path.basename(cwd) == 'notebooks':\n",
    "    os.chdir(os.path.dirname(cwd))\n",
    "else:\n",
    "    os.chdir(cwd)\n",
    "print(os.getcwd())"
   ]
  },
  {
   "cell_type": "code",
   "execution_count": null,
   "metadata": {},
   "outputs": [],
   "source": [
    "# import your own module\n",
    "from {{ cookiecutter.package_name }}.data.make_dataset import main as make_data_main\n",
    "make_data_main()"
   ]
  }
 ],
 "metadata": {
  "language_info": {
   "name": "python"
  },
  "orig_nbformat": 4
 },
 "nbformat": 4,
 "nbformat_minor": 2
}
